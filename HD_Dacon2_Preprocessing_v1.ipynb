{
  "nbformat": 4,
  "nbformat_minor": 0,
  "metadata": {
    "colab": {
      "provenance": []
    },
    "kernelspec": {
      "name": "python3",
      "display_name": "Python 3"
    },
    "language_info": {
      "name": "python"
    }
  },
  "cells": [
    {
      "cell_type": "code",
      "execution_count": null,
      "metadata": {
        "id": "XXNORH6XAn4k"
      },
      "outputs": [],
      "source": [
        "import warnings\n",
        "warnings.filterwarnings('ignore')\n",
        "\n",
        "from google.colab import drive\n",
        "drive.mount('/content/drive')\n",
        "\n",
        "import os\n",
        "os.chdir(\"/content/drive/MyDrive/Colab Notebooks/HD dacon2\")\n",
        "os.getcwd()"
      ]
    },
    {
      "cell_type": "code",
      "source": [
        "import numpy as np\n",
        "import pandas as pd\n",
        "import seaborn as sns\n",
        "import matplotlib.pyplot as plt\n",
        "import numpy as np\n",
        "\n",
        "import lightgbm as lgb\n",
        "import bisect\n",
        "from tqdm import tqdm\n",
        "from sklearn.metrics import mean_absolute_error\n",
        "from sklearn.preprocessing import LabelEncoder\n",
        "from sklearn.model_selection import KFold\n",
        "\n",
        "%matplotlib inline\n",
        "plt.style.use(['dark_background'])\n",
        "pd.set_option('display.max_columns',100)\n",
        "pd.set_option('display.max_rows',100)"
      ],
      "metadata": {
        "id": "q1m4fi89Az15"
      },
      "execution_count": null,
      "outputs": []
    },
    {
      "cell_type": "code",
      "source": [
        "# 데이터 불러오기\n",
        "train = pd.read_csv('train.csv').drop(columns=['SAMPLE_ID'])\n",
        "test = pd.read_csv('test.csv').drop(columns=['SAMPLE_ID'])"
      ],
      "metadata": {
        "id": "X_3OT27wAz36"
      },
      "execution_count": null,
      "outputs": []
    },
    {
      "cell_type": "code",
      "source": [
        "# 1. year, month, day, hour, minute, weekday 컬럼 그대로 생성\n",
        "# datetime 컬럼 처리\n",
        "train['ATA'] = pd.to_datetime(train['ATA'])\n",
        "test['ATA'] = pd.to_datetime(test['ATA'])\n",
        "\n",
        "# datetime을 여러 파생 변수로 변환\n",
        "for df in [train, test]:\n",
        "    df['year'] = df['ATA'].dt.year\n",
        "    df['month'] = df['ATA'].dt.month\n",
        "    df['day'] = df['ATA'].dt.day\n",
        "    df['hour'] = df['ATA'].dt.hour\n",
        "    df['minute'] = df['ATA'].dt.minute\n",
        "    df['weekday'] = df['ATA'].dt.weekday\n",
        "\n",
        "\n",
        "# 2. datetime 컬럼 제거\n",
        "train.drop(columns='ATA', inplace=True)\n",
        "test.drop(columns='ATA', inplace=True)\n",
        "\n",
        "\n",
        "# 3. Categorical 컬럼 인코딩\n",
        "categorical_features = ['ARI_CO', 'ARI_PO', 'SHIP_TYPE_CATEGORY', 'ID', 'SHIPMANAGER', 'FLAG']\n",
        "encoders = {}\n",
        "\n",
        "for feature in tqdm(categorical_features, desc=\"Encoding features\"):\n",
        "    le = LabelEncoder()\n",
        "    train[feature] = le.fit_transform(train[feature].astype(str))\n",
        "    le_classes_set = set(le.classes_)\n",
        "    test[feature] = test[feature].map(lambda s: '-1' if s not in le_classes_set else s)\n",
        "    le_classes = le.classes_.tolist()\n",
        "    bisect.insort_left(le_classes, '-1')\n",
        "    le.classes_ = np.array(le_classes)\n",
        "    test[feature] = le.transform(test[feature].astype(str))\n",
        "    encoders[feature] = le\n"
      ],
      "metadata": {
        "id": "73WWMAKKAz6N"
      },
      "execution_count": null,
      "outputs": []
    },
    {
      "cell_type": "code",
      "source": [
        "# 4. DIST가 0이면, CI_HOUR 모두 0으로 변경\n",
        "train.loc[train['DIST'] == 0, 'CI_HOUR'] = 0\n",
        "\n",
        "print(train)"
      ],
      "metadata": {
        "id": "qi12sKgPAz8U"
      },
      "execution_count": null,
      "outputs": []
    },
    {
      "cell_type": "code",
      "source": [
        "# 5. 결측치가 존재하는 데이터 1개 삭제\n",
        "train = train.dropna(subset=['LENGTH']).reset_index(drop=True)"
      ],
      "metadata": {
        "id": "qCoXGK2FA0Al"
      },
      "execution_count": null,
      "outputs": []
    },
    {
      "cell_type": "code",
      "source": [
        "# 6-1. 기상 관련 결측치 많은 컬럼 제거\n",
        "train.drop(columns = 'U_WIND', inplace = True)\n",
        "train.drop(columns = 'V_WIND', inplace = True)\n",
        "train.drop(columns = 'AIR_TEMPERATURE', inplace = True)\n",
        "train.drop(columns = 'BN', inplace = True)\n",
        "\n",
        "test.drop(columns = 'U_WIND', inplace = True)\n",
        "test.drop(columns = 'V_WIND', inplace = True)\n",
        "test.drop(columns = 'AIR_TEMPERATURE', inplace = True)\n",
        "test.drop(columns = 'BN', inplace = True)\n"
      ],
      "metadata": {
        "id": "VXcE31qjBk4f"
      },
      "execution_count": null,
      "outputs": []
    },
    {
      "cell_type": "code",
      "source": [
        "# 6-2. 기상 관련 결측치 KNN을 통한 대체\n",
        "'''\n",
        "from sklearn.impute import KNNImputer\n",
        "\n",
        "### 결측치 KNNImputer를 통해 대체\n",
        "\n",
        "# K-NN 대체기\n",
        "knn_imputer = KNNImputer(n_neighbors=10)\n",
        "\n",
        "# K-NN 대체를 적용할 열을 지정\n",
        "columns_to_impute = ['U_WIND', 'V_WIND', 'AIR_TEMPERATURE', 'BN']\n",
        "\n",
        "# train 데이터프레임에서 결측치를 K-NN으로 대체\n",
        "filtered_train[columns_to_impute] = knn_imputer.fit_transform(filtered_train[columns_to_impute])\n",
        "\n",
        "filtered_train = pd.DataFrame(filtered_train, columns=filtered_train.columns)\n",
        "#filtered_train.to_csv('train_imputed.csv', index = False)\n",
        "\n",
        "'''"
      ],
      "metadata": {
        "colab": {
          "base_uri": "https://localhost:8080/",
          "height": 108
        },
        "id": "a6Dgso20C92K",
        "outputId": "0241ec38-ae31-4cff-a41c-b1a4d33a5850"
      },
      "execution_count": 1,
      "outputs": [
        {
          "output_type": "execute_result",
          "data": {
            "text/plain": [
              "\"\\nfrom sklearn.impute import KNNImputer\\n\\n### 결측치 KNNImputer를 통해 대체\\n\\n# K-NN 대체기\\nknn_imputer = KNNImputer(n_neighbors=10)\\n\\n# K-NN 대체를 적용할 열을 지정\\ncolumns_to_impute = ['U_WIND', 'V_WIND', 'AIR_TEMPERATURE', 'BN']\\n\\n# train 데이터프레임에서 결측치를 K-NN으로 대체\\nfiltered_train[columns_to_impute] = knn_imputer.fit_transform(filtered_train[columns_to_impute])\\n\\nfiltered_train = pd.DataFrame(filtered_train, columns=filtered_train.columns)\\n#filtered_train.to_csv('train_imputed.csv', index = False)\\n\\n\""
            ],
            "application/vnd.google.colaboratory.intrinsic+json": {
              "type": "string"
            }
          },
          "metadata": {},
          "execution_count": 1
        }
      ]
    },
    {
      "cell_type": "code",
      "source": [
        "# 데이터프레임 전체 결측치 파악\n",
        "total_missing = train.isna().sum()\n",
        "print(total_missing)"
      ],
      "metadata": {
        "id": "wywUFVZUBk86"
      },
      "execution_count": null,
      "outputs": []
    },
    {
      "cell_type": "code",
      "source": [
        "# 7. 다중공선성 문제 해결을 위해 Length 컬럼 이외 삭제 (BREADTH, DEADWEIGHT, DEPTH, DRAUGHT, GT)\n",
        "\n",
        "for df in [train, test]:\n",
        "    df.drop(columns = 'BREADTH', inplace = True)\n",
        "    df.drop(columns = 'DEADWEIGHT', inplace = True)\n",
        "    df.drop(columns = 'DEPTH', inplace = True)\n",
        "    df.drop(columns = 'DRAUGHT', inplace = True)\n",
        "    df.drop(columns = 'GT', inplace = True)"
      ],
      "metadata": {
        "id": "wz-An4KDBk_T"
      },
      "execution_count": null,
      "outputs": []
    },
    {
      "cell_type": "code",
      "source": [
        "#  8. CI_HOUR 컬럼에서 표준편차 + 2 * 표준편차 이상이 되는 부분 이상치라고 판단 후, 삭제\n",
        "\n",
        "# 'CI_HOUR' 열의 평균과 표준 편차 계산\n",
        "mean = train['CI_HOUR'].mean()\n",
        "std = train['CI_HOUR'].std()\n",
        "\n",
        "# 이상치 경계 설정 (예: 평균에서 2배 표준 편차를 벗어나는 값)\n",
        "lower_bound = mean - 2 * std\n",
        "upper_bound = mean + 2 * std\n",
        "\n",
        "# 이상치를 제거하고 정상 범위의 데이터만 남김\n",
        "#filtered_train = train[(train['CI_HOUR'] >= lower_bound) & (train['CI_HOUR'] <= upper_bound)]\n",
        "train = train[(train['CI_HOUR'] >= lower_bound) & (train['CI_HOUR'] <= upper_bound)].reset_index(drop=True)"
      ],
      "metadata": {
        "id": "EC-EsqC9Bo7o"
      },
      "execution_count": null,
      "outputs": []
    },
    {
      "cell_type": "code",
      "source": [
        "# Berting Time 고려한다면..?\n",
        "'''\n",
        "train['CI_HOUR'] = pd.to_timedelta(train['CI_HOUR'], unit=\"hours\")\n",
        "train['Berthing datetime'] = train['ATA'] + train['CI_HOUR']\n",
        "test['CI_HOUR'] = pd.to_timedelta(test['CI_HOUR'], unit=\"hours\")\n",
        "test['Berthing datetime'] = test['ATA'] + test['CI_HOUR']\n",
        "'''"
      ],
      "metadata": {
        "id": "9KrPxa-SA0C2"
      },
      "execution_count": null,
      "outputs": []
    },
    {
      "cell_type": "code",
      "source": [
        "X_train = train.drop(columns='CI_HOUR')\n",
        "y_train = train['CI_HOUR']"
      ],
      "metadata": {
        "id": "AiKuJiYAC074"
      },
      "execution_count": null,
      "outputs": []
    }
  ]
}